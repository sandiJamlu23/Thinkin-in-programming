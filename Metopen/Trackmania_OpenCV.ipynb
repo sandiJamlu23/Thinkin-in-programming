{
 "cells": [
  {
   "cell_type": "markdown",
   "metadata": {},
   "source": [
    "# Video Capturing"
   ]
  },
  {
   "cell_type": "code",
   "execution_count": 2,
   "metadata": {},
   "outputs": [],
   "source": [
    "import numpy as np\n",
    "import cv2 as cv\n",
    "import PIL as ImageGrab\n",
    "import pyautogui as py\n",
    "import win32api, win32con \n",
    "import keyboard\n",
    "import time"
   ]
  },
  {
   "cell_type": "markdown",
   "metadata": {},
   "source": [
    "# Image Processing"
   ]
  },
  {
   "cell_type": "code",
   "execution_count": 5,
   "metadata": {},
   "outputs": [],
   "source": [
    "def takeSS():\n",
    "    im = py.screenshot('image.png',region=(5,30, 847, 542))\n",
    "    # Change the format that OpenCV can understand\n",
    "    img = np.array(im)\n",
    "    img_cvt = cv.cvtColor(img, cv.COLOR_RGB2BGR)\n",
    "\n",
    "    # cv.imshow(\"das\", img_cvt)\n",
    "    # cv.waitKey(0)\n",
    "    # cv.destroyAllWindows()\n",
    "    return img_cvt"
   ]
  },
  {
   "cell_type": "markdown",
   "metadata": {},
   "source": [
    "Edge detection using Canny Edge Detection "
   ]
  },
  {
   "cell_type": "code",
   "execution_count": 6,
   "metadata": {},
   "outputs": [],
   "source": [
    "def canny_edge_detection(img):\n",
    "    gray = cv.cvtColor(img, cv.COLOR_BGR2GRAY )\n",
    "    kernel = 5\n",
    "    blur = cv.GaussianBlur(gray, (kernel, kernel),0)\n",
    "    canny = cv.Canny(blur, 50, 150)\n",
    "    \n",
    "    return canny\n",
    "\n",
    "# frame = takeSS()\n",
    "# canny_image = canny_edge_detection(frame)\n",
    "\n",
    "# cv.imwrite('canny_edge_result.jpg',canny_image)\n",
    "\n",
    "# cv.imshow(\"win\",canny_image)\n",
    "# cv.waitKey(0)\n",
    "# cv.destroyAllWindows()"
   ]
  },
  {
   "cell_type": "markdown",
   "metadata": {},
   "source": [
    "Specify the region of interest"
   ]
  },
  {
   "cell_type": "code",
   "execution_count": 17,
   "metadata": {},
   "outputs": [],
   "source": [
    "def roi(img):\n",
    "    height = img.shape[0]\n",
    "    width = img.shape[1]\n",
    "    \n",
    "    # Road mask\n",
    "    mask = np.zeros_like(img)\n",
    "    car_mask = np.zeros_like(img)\n",
    "    \n",
    "    # Define the coordinates for the trapezoid region\n",
    "    # Adjust these points based on the shape of the lane and the car's position\n",
    "    roi_points = np.array([\n",
    "    [((250), (250)),    # Top-left corner\n",
    "     ((600), (250)),    # Top-right corner     \n",
    "     ((800), (300)),    # Bottom-right corner\n",
    "     ((50),  (300))]    # Bottom-left corner    \n",
    "    ], np.int32)\n",
    "\n",
    "     # HARDCODE\n",
    "    # triangle = np.array([\n",
    "    # car_triangle = np.array([\n",
    "    #     [(int(width * 0.1), height),  # Bottom-left point\n",
    "    #      (int(width * 0.5), int(height * 0.5)),  # Top-middle point\n",
    "    #      (int(width * 0.9), height)]  # Bottom-right point\n",
    "    # ], np.int32)\n",
    "\n",
    "    # Fill the triangular region\n",
    "    cv.fillPoly(mask, roi_points, 255)\n",
    "    #cv.fillPoly(mask, [car_triangle],0)\n",
    "    \n",
    "    # Use bitwise_and to apply the mask\n",
    "    masked_image = cv.bitwise_and(img, mask)\n",
    "    \n",
    "    cv.imshow(\"ROI Applied\", masked_image)\n",
    "    cv.waitKey(0)\n",
    "    cv.destroyAllWindows()\n",
    "    \n",
    "    return masked_image\n",
    "\n",
    "# Example usage:\n",
    "# img_cvt = takeSS()  # Capture screenshot and convert\n",
    "# edges = canny_edge_detection(img_cvt)  # Perform Canny edge detection\n",
    "# masked_image = roi(edges)\n",
    "\n",
    "# cv.imshow(\"Masked Image\", masked_image)\n",
    "# cv.waitKey(0)\n",
    "# cv.destroyAllWindows()\n"
   ]
  },
  {
   "cell_type": "markdown",
   "metadata": {},
   "source": [
    "# For future adjustment, use trapezoid instead of triangle"
   ]
  },
  {
   "cell_type": "code",
   "execution_count": 18,
   "metadata": {},
   "outputs": [],
   "source": [
    "def draw_road_roi(img):\n",
    "    height, width = img.shape[0], img.shape[1]\n",
    "\n",
    "    # Define a triangle that captures the road area in front of the car\n",
    "    # triangle = np.array([\n",
    "    #     [(int(width * 0.1), height),           # Bottom-left: 10% from the left of the frame\n",
    "    #      (int(width * 0.5), int(height * 0.6)), # Top-middle: center of the frame, 60% up\n",
    "    #      (int(width * 1.2), height)]           # Bottom-right: 90% from the left of the frame\n",
    "    # ], np.int32)\n",
    "    # HARDCODE\n",
    "    roi_points = np.array([\n",
    "    [((250), (250)),    # Top-left corner\n",
    "     ((600), (250)),    # Top-right corner     \n",
    "     ((800), (300)),    # Bottom-right corner\n",
    "     ((50),  (300))]    # Bottom-left corner    \n",
    "    ], np.int32)\n",
    "\n",
    "\n",
    "\n",
    "    # Draw the triangle on the image for visualization\n",
    "    cv.polylines(img, [roi_points], isClosed=True, color=(0, 255, 0), thickness=2)\n",
    "    return img\n",
    "\n",
    "# Example usage:\n",
    "img_cvt = takeSS()  # Capture screenshot and convert\n",
    "img_with_triangle = draw_road_roi(img_cvt)\n",
    "\n",
    "cv.imshow(\"Road Roi\", img_with_triangle)\n",
    "cv.waitKey(0)\n",
    "cv.destroyAllWindows()\n"
   ]
  },
  {
   "cell_type": "markdown",
   "metadata": {},
   "source": [
    "Coordinate Explanation:\n",
    "* (int(width * 0.1), height) defines the bottom-left point of the triangle (10% of the frame width from the left, and at the bottom).\n",
    "* (int(width * 0.5), int(height * 0.5)) is the top-middle point of the triangle (center of the width, and 50% down from the top).\n",
    "* (int(width * 0.9), height) is the bottom-right point of the triangle (90% of the frame width from the left, and at the bottom).\n",
    "How to Adjust the Triangle:\n",
    "Visually Inspect the Lane:\n",
    "\n",
    "Run the program and see where the triangle is placed. \n",
    "1. Adjust the width * 0.1 and width * 0.9 values to move the triangle left or right.\n",
    "2. Adjust height * 0.5 to raise or lower the top point of the triangle."
   ]
  },
  {
   "cell_type": "markdown",
   "metadata": {},
   "source": [
    "Define the HLD (Hough Line Detection)"
   ]
  },
  {
   "cell_type": "code",
   "execution_count": 32,
   "metadata": {},
   "outputs": [],
   "source": [
    "# Detect lines using Hough Transform\n",
    "def houghlines(img):\n",
    "    # Use HoughLinesP to detect line segments (parameters: rho, theta, threshold, min line length, max line gap)\n",
    "    hough_lines = cv.HoughLinesP(img, 2, np.pi / 180, 110, np.array([]), minLineLength=40, maxLineGap=10)\n",
    "    return hough_lines"
   ]
  },
  {
   "cell_type": "markdown",
   "metadata": {},
   "source": [
    "The houghlines function detects line segments in a binary image using the Probabilistic Hough Line Transform and returns a list of detected line segments. This is often used in applications like lane detection where you need to find and analyze straight lines in an image."
   ]
  },
  {
   "cell_type": "code",
   "execution_count": 33,
   "metadata": {},
   "outputs": [
    {
     "name": "stdout",
     "output_type": "stream",
     "text": [
      "[[[-473, -1186, 542, 813]], [[422, 612, 542, 813]]]\n",
      "[[[528 250 732 300]]\n",
      "\n",
      " [[132 300 322 250]]\n",
      "\n",
      " [[185 300 341 250]]\n",
      "\n",
      " [[544 260 673 300]]\n",
      "\n",
      " [[505 250 661 300]]\n",
      "\n",
      " [[210 261 258 250]]\n",
      "\n",
      " [[149 275 271 253]]]\n"
     ]
    }
   ],
   "source": [
    "# Create points from slope and intercept to form the line on the image\n",
    "def make_points(img, lineSI):\n",
    "    slope, intercept = lineSI  # Extract the slope and intercept of the line\n",
    "    height = img.shape[0]\n",
    "    y1 = int(height)  # y1 is the bottom of the image\n",
    "    y2 = int(y1 * 1.5)  # Extend the line slightly above the top of the image for visualization\n",
    "    \n",
    "    # Calculate the corresponding x1, x2 points based on the slope and intercept\n",
    "    x1 = int((y1 - intercept) / slope)\n",
    "    x2 = int((y2 - intercept) / slope)\n",
    "\n",
    "    return [[x1, x2, y1, y2]]  # Return the calculated points as a list\n",
    "\n",
    "# Before do this below code, you need to make sure that the line of the lane and the car\n",
    "# is already correct. Specify the correct region of ineterest first\n",
    "# Calculate the average slope and intercept for detected lines\n",
    "def average_slope_intercepts(img, lines):\n",
    "    left_fit = []  # To store the lines on the left (negative slope)\n",
    "    right_fit = []  # To store the lines on the right (positive slope)\n",
    "    \n",
    "    # Iterate through each detected line\n",
    "    for line in lines:\n",
    "        for x1, x2, y1, y2 in line:\n",
    "            # Fit a linear equation (y = mx + b) to get the slope (m) and intercept (b)\n",
    "            fit = np.polyfit((x1, x2), (y1, y2), 1)\n",
    "            slope = fit[0]\n",
    "            intercept = fit[1]\n",
    "\n",
    "            # Check if the slope is negative or positive (left or right lane)\n",
    "            if slope < 0:\n",
    "                left_fit.append((slope, intercept))  # Negative slope for the left lane\n",
    "            else:\n",
    "                right_fit.append((slope, intercept))  # Positive slope for the right lane\n",
    "\n",
    "    # Calculate the average slope and intercept for left and right lines\n",
    "    left_fit_average = np.average(left_fit, axis=0)\n",
    "    right_fit_average = np.average(right_fit, axis=0)\n",
    "\n",
    "    # Create lines based on the average slope and intercept\n",
    "    left_line = make_points(img, left_fit_average)\n",
    "    right_line = make_points(img, right_fit_average)\n",
    "    \n",
    "    # Return the average left and right lines\n",
    "    average_lines = [left_line, right_line]\n",
    "    return average_lines\n",
    "\n",
    "# Draw the lines on the image\n",
    "def display_lines_average(img, lines):\n",
    "    line_image = np.zeros_like(img)  # Create an empty image to draw lines on\n",
    "    if lines is not None:\n",
    "        for line in lines:\n",
    "            for x1, y1, x2, y2 in line:\n",
    "                # Draw the lines (red color, thickness = 10)\n",
    "                cv.line(img, (x1, y1), (x2, y2), (0, 0, 255), 10)\n",
    "    return img\n",
    "\n",
    "\n",
    "# Run the lane detection\n",
    "frame = takeSS()  # Capture a screenshot of the game frame\n",
    "canny_image = canny_edge_detection(frame)  # Apply Canny edge detection to find edges\n",
    "m_img = roi(canny_image)  # Apply the region of interest mask\n",
    "h_lines = houghlines(m_img)  # Detect lines using Hough transform\n",
    "\n",
    "# Calculate the average slope and intercept for the left and right lane lines\n",
    "avg_lines = average_slope_intercepts(frame, h_lines)\n",
    "print(avg_lines)  # Print the average line parameters\n",
    "print(h_lines)  # Print the raw detected lines\n",
    "\n",
    "# Draw the detected lines on the image\n",
    "lines_image = display_lines_average(frame, avg_lines)\n",
    "cv.imshow(\"Detected Lines\", lines_image)  # Display the image with the detected lines\n",
    "cv.waitKey(0)\n",
    "cv.destroyAllWindows()"
   ]
  },
  {
   "cell_type": "markdown",
   "metadata": {},
   "source": [
    "def average_slope_intercepts(img, lines):\n",
    "\n",
    "sometimes(in most cases actually) it detects multiple lines.  to overcome this, we can use the average value within the lines as you’ve seen in this code.\n",
    "\n",
    "bear in minds that, the lines (you can see at the ros function) is a lot of them. So you need to specify that only certain lines that is captured, hence it is called region of interest."
   ]
  },
  {
   "cell_type": "code",
   "execution_count": null,
   "metadata": {},
   "outputs": [],
   "source": []
  },
  {
   "cell_type": "markdown",
   "metadata": {},
   "source": [
    "# Controlling the car"
   ]
  },
  {
   "cell_type": "code",
   "execution_count": 22,
   "metadata": {},
   "outputs": [],
   "source": [
    "import time\n",
    "import pyautogui as py\n",
    "import pydirectinput\n",
    "\n",
    "# Function to click at specified coordinates (using PyAutoGUI)\n",
    "def click(x, y):\n",
    "    py.click(x, y)  # Click at the specified coordinates\n",
    "    time.sleep(0.5)  # Wait briefly to ensure the game is focused\n",
    "    \n",
    "def accelerate(hold_time):\n",
    "    start = time.time()\n",
    "    while time.time() - start < hold_time:\n",
    "        pydirectinput.keyDown('up')\n",
    "    pydirectinput.keyUp('up')\n",
    "\n",
    "def turnLeft(hold_time):\n",
    "    start = time.time()\n",
    "    while time.time() - start < hold_time:\n",
    "        pydirectinput.keyDown('a')\n",
    "    pydirectinput.keyUp('a')\n",
    "\n",
    "def turnRight(hold_time):\n",
    "    start = time.time()\n",
    "    while time.time() - start < hold_time:\n",
    "        pydirectinput.keyDown('d')\n",
    "    pydirectinput.keyUp('d')\n",
    "\n",
    "# Accelerate for 10 seconds, then turn left and right\n",
    "click(409, 275)\n",
    "accelerate(10)\n",
    "turnLeft(0.3)\n",
    "turnRight(0.3)"
   ]
  },
  {
   "cell_type": "code",
   "execution_count": 20,
   "metadata": {},
   "outputs": [
    {
     "data": {
      "text/plain": [
       "Point(x=409, y=275)"
      ]
     },
     "execution_count": 20,
     "metadata": {},
     "output_type": "execute_result"
    }
   ],
   "source": [
    "py.position()"
   ]
  },
  {
   "cell_type": "code",
   "execution_count": null,
   "metadata": {},
   "outputs": [],
   "source": []
  }
 ],
 "metadata": {
  "kernelspec": {
   "display_name": "base",
   "language": "python",
   "name": "python3"
  },
  "language_info": {
   "codemirror_mode": {
    "name": "ipython",
    "version": 3
   },
   "file_extension": ".py",
   "mimetype": "text/x-python",
   "name": "python",
   "nbconvert_exporter": "python",
   "pygments_lexer": "ipython3",
   "version": "3.8.10"
  }
 },
 "nbformat": 4,
 "nbformat_minor": 2
}
